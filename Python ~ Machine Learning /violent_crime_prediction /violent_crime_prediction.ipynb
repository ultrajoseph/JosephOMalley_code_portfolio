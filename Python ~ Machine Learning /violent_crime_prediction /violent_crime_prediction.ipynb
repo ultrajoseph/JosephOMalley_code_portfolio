{
 "cells": [
  {
   "cell_type": "markdown",
   "metadata": {},
   "source": [
    "## Violent Crime (by county) rate predictions"
   ]
  },
  {
   "cell_type": "code",
   "execution_count": 5,
   "metadata": {},
   "outputs": [
    {
     "data": {
      "application/javascript": [
       "$.getScript('https://kmahelona.github.io/ipython_notebook_goodies/ipython_notebook_toc.js')"
      ],
      "text/plain": [
       "<IPython.core.display.Javascript object>"
      ]
     },
     "metadata": {},
     "output_type": "display_data"
    }
   ],
   "source": [
    "%%javascript\n",
    "$.getScript('https://kmahelona.github.io/ipython_notebook_goodies/ipython_notebook_toc.js')"
   ]
  },
  {
   "cell_type": "markdown",
   "metadata": {},
   "source": [
    "<h1 id=\"tocheading\">Table of Contents</h1>\n",
    "<div id=\"toc\"></div>"
   ]
  },
  {
   "cell_type": "markdown",
   "metadata": {},
   "source": [
    "#### Joseph O'Malley"
   ]
  },
  {
   "cell_type": "markdown",
   "metadata": {},
   "source": [
    "Notebook 3: GLM modeling and Regularization "
   ]
  },
  {
   "cell_type": "markdown",
   "metadata": {},
   "source": [
    "#### Load in Crime dataset\n",
    "Using the dataset in UCO called Crimes and Communities (https://archive.ics.uci.edu/ml/datasets/Communities+and+Crime - it has 128 variables and 1994 rows. Read this file in DIRECTLY from the URL address. Cal is Crime. "
   ]
  },
  {
   "cell_type": "code",
   "execution_count": 1,
   "metadata": {
    "scrolled": true
   },
   "outputs": [
    {
     "name": "stderr",
     "output_type": "stream",
     "text": [
      "/Users/ultrajosef/anaconda3/lib/python3.6/site-packages/ipykernel_launcher.py:10: ParserWarning: Falling back to the 'python' engine because the 'c' engine does not support regex separators (separators > 1 char and different from '\\s+' are interpreted as regex); you can avoid this warning by specifying engine='python'.\n",
      "  # Remove the CWD from sys.path while we load stuff.\n"
     ]
    },
    {
     "data": {
      "text/plain": [
       "(485, 1)"
      ]
     },
     "execution_count": 1,
     "metadata": {},
     "output_type": "execute_result"
    }
   ],
   "source": [
    "## load in headers data and display data frame\n",
    "\n",
    "# import module(s) into namespace\n",
    "import pandas as pd #we almost always need pandas because we like data frames\n",
    "import numpy as np\n",
    "pd.set_option('display.max_colwidth', 150) #important for getting all the text\n",
    "\n",
    "##load in names\n",
    "c=pd.read_csv('https://archive.ics.uci.edu/ml/machine-learning-databases/communities/communities.names'\n",
    "              ,header=None, sep = \"::\")\n",
    "## check shape of data imported\n",
    "c.shape\n"
   ]
  },
  {
   "cell_type": "code",
   "execution_count": 2,
   "metadata": {
    "scrolled": true
   },
   "outputs": [
    {
     "data": {
      "text/plain": [
       "0    object\n",
       "dtype: object"
      ]
     },
     "execution_count": 2,
     "metadata": {},
     "output_type": "execute_result"
    }
   ],
   "source": [
    "## check datatypes\n",
    "c.dtypes"
   ]
  },
  {
   "cell_type": "code",
   "execution_count": 3,
   "metadata": {
    "scrolled": true
   },
   "outputs": [
    {
     "data": {
      "text/plain": [
       "57             state \n",
       "58            county \n",
       "59         community \n",
       "60     communityname \n",
       "61              fold \n",
       "Name: 0, dtype: object"
      ]
     },
     "execution_count": 3,
     "metadata": {},
     "output_type": "execute_result"
    }
   ],
   "source": [
    "## create second column to detect presence of \"@attribute\"\n",
    "c.loc[c[0].str.contains('@attribute'), 'Activity_2'] = 1\n",
    "\n",
    "## subset to include only columns that had an \"@attribute\" in them\n",
    "c = c.loc[c['Activity_2'] == 1.0]\n",
    "c.shape\n",
    "\n",
    "## custom replace metadata elements\n",
    "c[0] = c[0].replace({'@attribute':'', 'numeric':'', 'string':''}, regex=True)\n",
    "c.head(20)\n",
    "\n",
    "## remove attribute column, keep only names\n",
    "c = c[0]\n",
    "c.head()"
   ]
  },
  {
   "cell_type": "code",
   "execution_count": 4,
   "metadata": {
    "scrolled": false
   },
   "outputs": [
    {
     "data": {
      "text/html": [
       "<div>\n",
       "<style scoped>\n",
       "    .dataframe tbody tr th:only-of-type {\n",
       "        vertical-align: middle;\n",
       "    }\n",
       "\n",
       "    .dataframe tbody tr th {\n",
       "        vertical-align: top;\n",
       "    }\n",
       "\n",
       "    .dataframe thead th {\n",
       "        text-align: right;\n",
       "    }\n",
       "</style>\n",
       "<table border=\"1\" class=\"dataframe\">\n",
       "  <thead>\n",
       "    <tr style=\"text-align: right;\">\n",
       "      <th></th>\n",
       "      <th>state</th>\n",
       "      <th>county</th>\n",
       "      <th>community</th>\n",
       "      <th>communityname</th>\n",
       "      <th>fold</th>\n",
       "      <th>population</th>\n",
       "      <th>householdsize</th>\n",
       "      <th>racepctblack</th>\n",
       "      <th>racePctWhite</th>\n",
       "      <th>racePctAsian</th>\n",
       "      <th>...</th>\n",
       "      <th>LandArea</th>\n",
       "      <th>PopDens</th>\n",
       "      <th>PctUsePubTrans</th>\n",
       "      <th>PolicCars</th>\n",
       "      <th>PolicOperBudg</th>\n",
       "      <th>LemasPctPolicOnPatr</th>\n",
       "      <th>LemasGangUnitDeploy</th>\n",
       "      <th>LemasPctOfficDrugUn</th>\n",
       "      <th>PolicBudgPerPop</th>\n",
       "      <th>ViolentCrimesPerPop</th>\n",
       "    </tr>\n",
       "  </thead>\n",
       "  <tbody>\n",
       "    <tr>\n",
       "      <th>0</th>\n",
       "      <td>8</td>\n",
       "      <td>0</td>\n",
       "      <td>0</td>\n",
       "      <td>Lakewoodcity</td>\n",
       "      <td>1</td>\n",
       "      <td>0.19</td>\n",
       "      <td>0.33</td>\n",
       "      <td>0.02</td>\n",
       "      <td>0.90</td>\n",
       "      <td>0.12</td>\n",
       "      <td>...</td>\n",
       "      <td>0.12</td>\n",
       "      <td>0.26</td>\n",
       "      <td>0.20</td>\n",
       "      <td>0.06</td>\n",
       "      <td>0.04</td>\n",
       "      <td>0.9</td>\n",
       "      <td>0.5</td>\n",
       "      <td>0.32</td>\n",
       "      <td>0.14</td>\n",
       "      <td>0.20</td>\n",
       "    </tr>\n",
       "    <tr>\n",
       "      <th>1</th>\n",
       "      <td>53</td>\n",
       "      <td>0</td>\n",
       "      <td>0</td>\n",
       "      <td>Tukwilacity</td>\n",
       "      <td>1</td>\n",
       "      <td>0.00</td>\n",
       "      <td>0.16</td>\n",
       "      <td>0.12</td>\n",
       "      <td>0.74</td>\n",
       "      <td>0.45</td>\n",
       "      <td>...</td>\n",
       "      <td>0.02</td>\n",
       "      <td>0.12</td>\n",
       "      <td>0.45</td>\n",
       "      <td>0</td>\n",
       "      <td>0</td>\n",
       "      <td>0</td>\n",
       "      <td>0</td>\n",
       "      <td>0.00</td>\n",
       "      <td>0</td>\n",
       "      <td>0.67</td>\n",
       "    </tr>\n",
       "    <tr>\n",
       "      <th>2</th>\n",
       "      <td>24</td>\n",
       "      <td>0</td>\n",
       "      <td>0</td>\n",
       "      <td>Aberdeentown</td>\n",
       "      <td>1</td>\n",
       "      <td>0.00</td>\n",
       "      <td>0.42</td>\n",
       "      <td>0.49</td>\n",
       "      <td>0.56</td>\n",
       "      <td>0.17</td>\n",
       "      <td>...</td>\n",
       "      <td>0.01</td>\n",
       "      <td>0.21</td>\n",
       "      <td>0.02</td>\n",
       "      <td>0</td>\n",
       "      <td>0</td>\n",
       "      <td>0</td>\n",
       "      <td>0</td>\n",
       "      <td>0.00</td>\n",
       "      <td>0</td>\n",
       "      <td>0.43</td>\n",
       "    </tr>\n",
       "    <tr>\n",
       "      <th>3</th>\n",
       "      <td>34</td>\n",
       "      <td>5</td>\n",
       "      <td>81440</td>\n",
       "      <td>Willingborotownship</td>\n",
       "      <td>1</td>\n",
       "      <td>0.04</td>\n",
       "      <td>0.77</td>\n",
       "      <td>1.00</td>\n",
       "      <td>0.08</td>\n",
       "      <td>0.12</td>\n",
       "      <td>...</td>\n",
       "      <td>0.02</td>\n",
       "      <td>0.39</td>\n",
       "      <td>0.28</td>\n",
       "      <td>0</td>\n",
       "      <td>0</td>\n",
       "      <td>0</td>\n",
       "      <td>0</td>\n",
       "      <td>0.00</td>\n",
       "      <td>0</td>\n",
       "      <td>0.12</td>\n",
       "    </tr>\n",
       "    <tr>\n",
       "      <th>4</th>\n",
       "      <td>42</td>\n",
       "      <td>95</td>\n",
       "      <td>6096</td>\n",
       "      <td>Bethlehemtownship</td>\n",
       "      <td>1</td>\n",
       "      <td>0.01</td>\n",
       "      <td>0.55</td>\n",
       "      <td>0.02</td>\n",
       "      <td>0.95</td>\n",
       "      <td>0.09</td>\n",
       "      <td>...</td>\n",
       "      <td>0.04</td>\n",
       "      <td>0.09</td>\n",
       "      <td>0.02</td>\n",
       "      <td>0</td>\n",
       "      <td>0</td>\n",
       "      <td>0</td>\n",
       "      <td>0</td>\n",
       "      <td>0.00</td>\n",
       "      <td>0</td>\n",
       "      <td>0.03</td>\n",
       "    </tr>\n",
       "  </tbody>\n",
       "</table>\n",
       "<p>5 rows × 128 columns</p>\n",
       "</div>"
      ],
      "text/plain": [
       "    state   county   community        communityname    fold    population   \\\n",
       "0        8        0           0         Lakewoodcity       1          0.19   \n",
       "1       53        0           0          Tukwilacity       1          0.00   \n",
       "2       24        0           0         Aberdeentown       1          0.00   \n",
       "3       34        5       81440  Willingborotownship       1          0.04   \n",
       "4       42       95        6096    Bethlehemtownship       1          0.01   \n",
       "\n",
       "    householdsize    racepctblack    racePctWhite    racePctAsian   \\\n",
       "0             0.33            0.02            0.90            0.12   \n",
       "1             0.16            0.12            0.74            0.45   \n",
       "2             0.42            0.49            0.56            0.17   \n",
       "3             0.77            1.00            0.08            0.12   \n",
       "4             0.55            0.02            0.95            0.09   \n",
       "\n",
       "           ...             LandArea    PopDens    PctUsePubTrans   \\\n",
       "0          ...                  0.12       0.26              0.20   \n",
       "1          ...                  0.02       0.12              0.45   \n",
       "2          ...                  0.01       0.21              0.02   \n",
       "3          ...                  0.02       0.39              0.28   \n",
       "4          ...                  0.04       0.09              0.02   \n",
       "\n",
       "    PolicCars    PolicOperBudg    LemasPctPolicOnPatr    LemasGangUnitDeploy   \\\n",
       "0         0.06             0.04                    0.9                    0.5   \n",
       "1            0                0                      0                      0   \n",
       "2            0                0                      0                      0   \n",
       "3            0                0                      0                      0   \n",
       "4            0                0                      0                      0   \n",
       "\n",
       "    LemasPctOfficDrugUn    PolicBudgPerPop    ViolentCrimesPerPop   \n",
       "0                   0.32               0.14                   0.20  \n",
       "1                   0.00                  0                   0.67  \n",
       "2                   0.00                  0                   0.43  \n",
       "3                   0.00                  0                   0.12  \n",
       "4                   0.00                  0                   0.03  \n",
       "\n",
       "[5 rows x 128 columns]"
      ]
     },
     "execution_count": 4,
     "metadata": {},
     "output_type": "execute_result"
    }
   ],
   "source": [
    "## load in body of data and use new transformed headers in argument\n",
    "url=\"https://archive.ics.uci.edu/ml/machine-learning-databases/communities/communities.data\"\n",
    "c=pd.read_csv(\"https://archive.ics.uci.edu/ml/machine-learning-databases/communities/communities.data\",\n",
    "              names = c, sep = \",\")\n",
    "## replace\n",
    "c = c.replace({'?':0})\n",
    "c.head()"
   ]
  },
  {
   "cell_type": "code",
   "execution_count": 5,
   "metadata": {},
   "outputs": [],
   "source": [
    "### Replace nulls with median\n",
    "c.fillna((c.median()), inplace=True)"
   ]
  },
  {
   "cell_type": "code",
   "execution_count": 6,
   "metadata": {
    "scrolled": true
   },
   "outputs": [
    {
     "data": {
      "text/html": [
       "<div>\n",
       "<style scoped>\n",
       "    .dataframe tbody tr th:only-of-type {\n",
       "        vertical-align: middle;\n",
       "    }\n",
       "\n",
       "    .dataframe tbody tr th {\n",
       "        vertical-align: top;\n",
       "    }\n",
       "\n",
       "    .dataframe thead th {\n",
       "        text-align: right;\n",
       "    }\n",
       "</style>\n",
       "<table border=\"1\" class=\"dataframe\">\n",
       "  <thead>\n",
       "    <tr style=\"text-align: right;\">\n",
       "      <th></th>\n",
       "      <th>state</th>\n",
       "      <th>fold</th>\n",
       "      <th>population</th>\n",
       "      <th>householdsize</th>\n",
       "      <th>racepctblack</th>\n",
       "      <th>racePctWhite</th>\n",
       "      <th>racePctAsian</th>\n",
       "      <th>racePctHisp</th>\n",
       "      <th>agePct12t21</th>\n",
       "      <th>agePct12t29</th>\n",
       "      <th>...</th>\n",
       "      <th>PctForeignBorn</th>\n",
       "      <th>PctBornSameState</th>\n",
       "      <th>PctSameHouse85</th>\n",
       "      <th>PctSameCity85</th>\n",
       "      <th>PctSameState85</th>\n",
       "      <th>LandArea</th>\n",
       "      <th>PopDens</th>\n",
       "      <th>PctUsePubTrans</th>\n",
       "      <th>LemasPctOfficDrugUn</th>\n",
       "      <th>ViolentCrimesPerPop</th>\n",
       "    </tr>\n",
       "  </thead>\n",
       "  <tbody>\n",
       "    <tr>\n",
       "      <th>count</th>\n",
       "      <td>1994.000000</td>\n",
       "      <td>1994.000000</td>\n",
       "      <td>1994.000000</td>\n",
       "      <td>1994.000000</td>\n",
       "      <td>1994.000000</td>\n",
       "      <td>1994.000000</td>\n",
       "      <td>1994.000000</td>\n",
       "      <td>1994.000000</td>\n",
       "      <td>1994.000000</td>\n",
       "      <td>1994.000000</td>\n",
       "      <td>...</td>\n",
       "      <td>1994.000000</td>\n",
       "      <td>1994.000000</td>\n",
       "      <td>1994.000000</td>\n",
       "      <td>1994.000000</td>\n",
       "      <td>1994.000000</td>\n",
       "      <td>1994.000000</td>\n",
       "      <td>1994.000000</td>\n",
       "      <td>1994.000000</td>\n",
       "      <td>1994.000000</td>\n",
       "      <td>1994.000000</td>\n",
       "    </tr>\n",
       "    <tr>\n",
       "      <th>mean</th>\n",
       "      <td>28.683551</td>\n",
       "      <td>5.493982</td>\n",
       "      <td>0.057593</td>\n",
       "      <td>0.463395</td>\n",
       "      <td>0.179629</td>\n",
       "      <td>0.753716</td>\n",
       "      <td>0.153681</td>\n",
       "      <td>0.144022</td>\n",
       "      <td>0.424218</td>\n",
       "      <td>0.493867</td>\n",
       "      <td>...</td>\n",
       "      <td>0.215552</td>\n",
       "      <td>0.608892</td>\n",
       "      <td>0.535050</td>\n",
       "      <td>0.626424</td>\n",
       "      <td>0.651530</td>\n",
       "      <td>0.065231</td>\n",
       "      <td>0.232854</td>\n",
       "      <td>0.161685</td>\n",
       "      <td>0.094052</td>\n",
       "      <td>0.237979</td>\n",
       "    </tr>\n",
       "    <tr>\n",
       "      <th>std</th>\n",
       "      <td>16.397553</td>\n",
       "      <td>2.873694</td>\n",
       "      <td>0.126906</td>\n",
       "      <td>0.163717</td>\n",
       "      <td>0.253442</td>\n",
       "      <td>0.244039</td>\n",
       "      <td>0.208877</td>\n",
       "      <td>0.232492</td>\n",
       "      <td>0.155196</td>\n",
       "      <td>0.143564</td>\n",
       "      <td>...</td>\n",
       "      <td>0.231134</td>\n",
       "      <td>0.204329</td>\n",
       "      <td>0.181352</td>\n",
       "      <td>0.200521</td>\n",
       "      <td>0.198221</td>\n",
       "      <td>0.109459</td>\n",
       "      <td>0.203092</td>\n",
       "      <td>0.229055</td>\n",
       "      <td>0.240328</td>\n",
       "      <td>0.232985</td>\n",
       "    </tr>\n",
       "    <tr>\n",
       "      <th>min</th>\n",
       "      <td>1.000000</td>\n",
       "      <td>1.000000</td>\n",
       "      <td>0.000000</td>\n",
       "      <td>0.000000</td>\n",
       "      <td>0.000000</td>\n",
       "      <td>0.000000</td>\n",
       "      <td>0.000000</td>\n",
       "      <td>0.000000</td>\n",
       "      <td>0.000000</td>\n",
       "      <td>0.000000</td>\n",
       "      <td>...</td>\n",
       "      <td>0.000000</td>\n",
       "      <td>0.000000</td>\n",
       "      <td>0.000000</td>\n",
       "      <td>0.000000</td>\n",
       "      <td>0.000000</td>\n",
       "      <td>0.000000</td>\n",
       "      <td>0.000000</td>\n",
       "      <td>0.000000</td>\n",
       "      <td>0.000000</td>\n",
       "      <td>0.000000</td>\n",
       "    </tr>\n",
       "    <tr>\n",
       "      <th>25%</th>\n",
       "      <td>12.000000</td>\n",
       "      <td>3.000000</td>\n",
       "      <td>0.010000</td>\n",
       "      <td>0.350000</td>\n",
       "      <td>0.020000</td>\n",
       "      <td>0.630000</td>\n",
       "      <td>0.040000</td>\n",
       "      <td>0.010000</td>\n",
       "      <td>0.340000</td>\n",
       "      <td>0.410000</td>\n",
       "      <td>...</td>\n",
       "      <td>0.060000</td>\n",
       "      <td>0.470000</td>\n",
       "      <td>0.420000</td>\n",
       "      <td>0.520000</td>\n",
       "      <td>0.560000</td>\n",
       "      <td>0.020000</td>\n",
       "      <td>0.100000</td>\n",
       "      <td>0.020000</td>\n",
       "      <td>0.000000</td>\n",
       "      <td>0.070000</td>\n",
       "    </tr>\n",
       "    <tr>\n",
       "      <th>50%</th>\n",
       "      <td>34.000000</td>\n",
       "      <td>5.000000</td>\n",
       "      <td>0.020000</td>\n",
       "      <td>0.440000</td>\n",
       "      <td>0.060000</td>\n",
       "      <td>0.850000</td>\n",
       "      <td>0.070000</td>\n",
       "      <td>0.040000</td>\n",
       "      <td>0.400000</td>\n",
       "      <td>0.480000</td>\n",
       "      <td>...</td>\n",
       "      <td>0.130000</td>\n",
       "      <td>0.630000</td>\n",
       "      <td>0.540000</td>\n",
       "      <td>0.670000</td>\n",
       "      <td>0.700000</td>\n",
       "      <td>0.040000</td>\n",
       "      <td>0.170000</td>\n",
       "      <td>0.070000</td>\n",
       "      <td>0.000000</td>\n",
       "      <td>0.150000</td>\n",
       "    </tr>\n",
       "    <tr>\n",
       "      <th>75%</th>\n",
       "      <td>42.000000</td>\n",
       "      <td>8.000000</td>\n",
       "      <td>0.050000</td>\n",
       "      <td>0.540000</td>\n",
       "      <td>0.230000</td>\n",
       "      <td>0.940000</td>\n",
       "      <td>0.170000</td>\n",
       "      <td>0.160000</td>\n",
       "      <td>0.470000</td>\n",
       "      <td>0.540000</td>\n",
       "      <td>...</td>\n",
       "      <td>0.280000</td>\n",
       "      <td>0.777500</td>\n",
       "      <td>0.660000</td>\n",
       "      <td>0.770000</td>\n",
       "      <td>0.790000</td>\n",
       "      <td>0.070000</td>\n",
       "      <td>0.280000</td>\n",
       "      <td>0.190000</td>\n",
       "      <td>0.000000</td>\n",
       "      <td>0.330000</td>\n",
       "    </tr>\n",
       "    <tr>\n",
       "      <th>max</th>\n",
       "      <td>56.000000</td>\n",
       "      <td>10.000000</td>\n",
       "      <td>1.000000</td>\n",
       "      <td>1.000000</td>\n",
       "      <td>1.000000</td>\n",
       "      <td>1.000000</td>\n",
       "      <td>1.000000</td>\n",
       "      <td>1.000000</td>\n",
       "      <td>1.000000</td>\n",
       "      <td>1.000000</td>\n",
       "      <td>...</td>\n",
       "      <td>1.000000</td>\n",
       "      <td>1.000000</td>\n",
       "      <td>1.000000</td>\n",
       "      <td>1.000000</td>\n",
       "      <td>1.000000</td>\n",
       "      <td>1.000000</td>\n",
       "      <td>1.000000</td>\n",
       "      <td>1.000000</td>\n",
       "      <td>1.000000</td>\n",
       "      <td>1.000000</td>\n",
       "    </tr>\n",
       "  </tbody>\n",
       "</table>\n",
       "<p>8 rows × 102 columns</p>\n",
       "</div>"
      ],
      "text/plain": [
       "            state         fold    population    householdsize   \\\n",
       "count  1994.000000  1994.000000   1994.000000      1994.000000   \n",
       "mean     28.683551     5.493982      0.057593         0.463395   \n",
       "std      16.397553     2.873694      0.126906         0.163717   \n",
       "min       1.000000     1.000000      0.000000         0.000000   \n",
       "25%      12.000000     3.000000      0.010000         0.350000   \n",
       "50%      34.000000     5.000000      0.020000         0.440000   \n",
       "75%      42.000000     8.000000      0.050000         0.540000   \n",
       "max      56.000000    10.000000      1.000000         1.000000   \n",
       "\n",
       "        racepctblack    racePctWhite    racePctAsian    racePctHisp   \\\n",
       "count     1994.000000     1994.000000     1994.000000    1994.000000   \n",
       "mean         0.179629        0.753716        0.153681       0.144022   \n",
       "std          0.253442        0.244039        0.208877       0.232492   \n",
       "min          0.000000        0.000000        0.000000       0.000000   \n",
       "25%          0.020000        0.630000        0.040000       0.010000   \n",
       "50%          0.060000        0.850000        0.070000       0.040000   \n",
       "75%          0.230000        0.940000        0.170000       0.160000   \n",
       "max          1.000000        1.000000        1.000000       1.000000   \n",
       "\n",
       "        agePct12t21    agePct12t29           ...             PctForeignBorn   \\\n",
       "count    1994.000000    1994.000000          ...                 1994.000000   \n",
       "mean        0.424218       0.493867          ...                    0.215552   \n",
       "std         0.155196       0.143564          ...                    0.231134   \n",
       "min         0.000000       0.000000          ...                    0.000000   \n",
       "25%         0.340000       0.410000          ...                    0.060000   \n",
       "50%         0.400000       0.480000          ...                    0.130000   \n",
       "75%         0.470000       0.540000          ...                    0.280000   \n",
       "max         1.000000       1.000000          ...                    1.000000   \n",
       "\n",
       "        PctBornSameState    PctSameHouse85    PctSameCity85   \\\n",
       "count         1994.000000       1994.000000      1994.000000   \n",
       "mean             0.608892          0.535050         0.626424   \n",
       "std              0.204329          0.181352         0.200521   \n",
       "min              0.000000          0.000000         0.000000   \n",
       "25%              0.470000          0.420000         0.520000   \n",
       "50%              0.630000          0.540000         0.670000   \n",
       "75%              0.777500          0.660000         0.770000   \n",
       "max              1.000000          1.000000         1.000000   \n",
       "\n",
       "        PctSameState85     LandArea      PopDens    PctUsePubTrans   \\\n",
       "count       1994.000000  1994.000000  1994.000000       1994.000000   \n",
       "mean           0.651530     0.065231     0.232854          0.161685   \n",
       "std            0.198221     0.109459     0.203092          0.229055   \n",
       "min            0.000000     0.000000     0.000000          0.000000   \n",
       "25%            0.560000     0.020000     0.100000          0.020000   \n",
       "50%            0.700000     0.040000     0.170000          0.070000   \n",
       "75%            0.790000     0.070000     0.280000          0.190000   \n",
       "max            1.000000     1.000000     1.000000          1.000000   \n",
       "\n",
       "        LemasPctOfficDrugUn    ViolentCrimesPerPop   \n",
       "count            1994.000000            1994.000000  \n",
       "mean                0.094052               0.237979  \n",
       "std                 0.240328               0.232985  \n",
       "min                 0.000000               0.000000  \n",
       "25%                 0.000000               0.070000  \n",
       "50%                 0.000000               0.150000  \n",
       "75%                 0.000000               0.330000  \n",
       "max                 1.000000               1.000000  \n",
       "\n",
       "[8 rows x 102 columns]"
      ]
     },
     "execution_count": 6,
     "metadata": {},
     "output_type": "execute_result"
    }
   ],
   "source": [
    "## check distribution of numeric columns\n",
    "c.describe()"
   ]
  },
  {
   "cell_type": "code",
   "execution_count": 7,
   "metadata": {},
   "outputs": [
    {
     "data": {
      "text/plain": [
       "[' ViolentCrimesPerPop ',\n",
       " ' state ',\n",
       " ' county ',\n",
       " ' community ',\n",
       " ' communityname ',\n",
       " ' fold ',\n",
       " ' population ',\n",
       " ' householdsize ',\n",
       " ' racepctblack ',\n",
       " ' racePctWhite ',\n",
       " ' racePctAsian ',\n",
       " ' racePctHisp ',\n",
       " ' agePct12t21 ',\n",
       " ' agePct12t29 ',\n",
       " ' agePct16t24 ',\n",
       " ' agePct65up ',\n",
       " ' numbUrban ',\n",
       " ' pctUrban ',\n",
       " ' medIncome ',\n",
       " ' pctWWage ',\n",
       " ' pctWFarmSelf ',\n",
       " ' pctWInvInc ',\n",
       " ' pctWSocSec ',\n",
       " ' pctWPubAsst ',\n",
       " ' pctWRetire ',\n",
       " ' medFamInc ',\n",
       " ' perCapInc ',\n",
       " ' whitePerCap ',\n",
       " ' blackPerCap ',\n",
       " ' indianPerCap ',\n",
       " ' AsianPerCap ',\n",
       " ' OtherPerCap ',\n",
       " ' HispPerCap ',\n",
       " ' NumUnderPov ',\n",
       " ' PctPopUnderPov ',\n",
       " ' PctLess9thGrade ',\n",
       " ' PctNotHSGrad ',\n",
       " ' PctBSorMore ',\n",
       " ' PctUnemployed ',\n",
       " ' PctEmploy ',\n",
       " ' PctEmplManu ',\n",
       " ' PctEmplProfServ ',\n",
       " ' PctOccupManu ',\n",
       " ' PctOccupMgmtProf ',\n",
       " ' MalePctDivorce ',\n",
       " ' MalePctNevMarr ',\n",
       " ' FemalePctDiv ',\n",
       " ' TotalPctDiv ',\n",
       " ' PersPerFam ',\n",
       " ' PctFam2Par ',\n",
       " ' PctKids2Par ',\n",
       " ' PctYoungKids2Par ',\n",
       " ' PctTeen2Par ',\n",
       " ' PctWorkMomYoungKids ',\n",
       " ' PctWorkMom ',\n",
       " ' NumIlleg ',\n",
       " ' PctIlleg ',\n",
       " ' NumImmig ',\n",
       " ' PctImmigRecent ',\n",
       " ' PctImmigRec5 ',\n",
       " ' PctImmigRec8 ',\n",
       " ' PctImmigRec10 ',\n",
       " ' PctRecentImmig ',\n",
       " ' PctRecImmig5 ',\n",
       " ' PctRecImmig8 ',\n",
       " ' PctRecImmig10 ',\n",
       " ' PctSpeakEnglOnly ',\n",
       " ' PctNotSpeakEnglWell ',\n",
       " ' PctLargHouseFam ',\n",
       " ' PctLargHouseOccup ',\n",
       " ' PersPerOccupHous ',\n",
       " ' PersPerOwnOccHous ',\n",
       " ' PersPerRentOccHous ',\n",
       " ' PctPersOwnOccup ',\n",
       " ' PctPersDenseHous ',\n",
       " ' PctHousLess3BR ',\n",
       " ' MedNumBR ',\n",
       " ' HousVacant ',\n",
       " ' PctHousOccup ',\n",
       " ' PctHousOwnOcc ',\n",
       " ' PctVacantBoarded ',\n",
       " ' PctVacMore6Mos ',\n",
       " ' MedYrHousBuilt ',\n",
       " ' PctHousNoPhone ',\n",
       " ' PctWOFullPlumb ',\n",
       " ' OwnOccLowQuart ',\n",
       " ' OwnOccMedVal ',\n",
       " ' OwnOccHiQuart ',\n",
       " ' RentLowQ ',\n",
       " ' RentMedian ',\n",
       " ' RentHighQ ',\n",
       " ' MedRent ',\n",
       " ' MedRentPctHousInc ',\n",
       " ' MedOwnCostPctInc ',\n",
       " ' MedOwnCostPctIncNoMtg ',\n",
       " ' NumInShelters ',\n",
       " ' NumStreet ',\n",
       " ' PctForeignBorn ',\n",
       " ' PctBornSameState ',\n",
       " ' PctSameHouse85 ',\n",
       " ' PctSameCity85 ',\n",
       " ' PctSameState85 ',\n",
       " ' LemasSwornFT ',\n",
       " ' LemasSwFTPerPop ',\n",
       " ' LemasSwFTFieldOps ',\n",
       " ' LemasSwFTFieldPerPop ',\n",
       " ' LemasTotalReq ',\n",
       " ' LemasTotReqPerPop ',\n",
       " ' PolicReqPerOffic ',\n",
       " ' PolicPerPop ',\n",
       " ' RacialMatchCommPol ',\n",
       " ' PctPolicWhite ',\n",
       " ' PctPolicBlack ',\n",
       " ' PctPolicHisp ',\n",
       " ' PctPolicAsian ',\n",
       " ' PctPolicMinor ',\n",
       " ' OfficAssgnDrugUnits ',\n",
       " ' NumKindsDrugsSeiz ',\n",
       " ' PolicAveOTWorked ',\n",
       " ' LandArea ',\n",
       " ' PopDens ',\n",
       " ' PctUsePubTrans ',\n",
       " ' PolicCars ',\n",
       " ' PolicOperBudg ',\n",
       " ' LemasPctPolicOnPatr ',\n",
       " ' LemasGangUnitDeploy ',\n",
       " ' LemasPctOfficDrugUn ',\n",
       " ' PolicBudgPerPop ']"
      ]
     },
     "execution_count": 7,
     "metadata": {},
     "output_type": "execute_result"
    }
   ],
   "source": [
    "# move the column to head of list using index, pop and insert\n",
    "cols = list(c)\n",
    "cols.insert(0, cols.pop(cols.index(' ViolentCrimesPerPop ')))\n",
    "cols"
   ]
  },
  {
   "cell_type": "code",
   "execution_count": 8,
   "metadata": {
    "scrolled": true
   },
   "outputs": [
    {
     "data": {
      "text/html": [
       "<div>\n",
       "<style scoped>\n",
       "    .dataframe tbody tr th:only-of-type {\n",
       "        vertical-align: middle;\n",
       "    }\n",
       "\n",
       "    .dataframe tbody tr th {\n",
       "        vertical-align: top;\n",
       "    }\n",
       "\n",
       "    .dataframe thead th {\n",
       "        text-align: right;\n",
       "    }\n",
       "</style>\n",
       "<table border=\"1\" class=\"dataframe\">\n",
       "  <thead>\n",
       "    <tr style=\"text-align: right;\">\n",
       "      <th></th>\n",
       "      <th>ViolentCrimesPerPop</th>\n",
       "      <th>state</th>\n",
       "      <th>county</th>\n",
       "      <th>community</th>\n",
       "      <th>fold</th>\n",
       "      <th>population</th>\n",
       "      <th>householdsize</th>\n",
       "      <th>racepctblack</th>\n",
       "      <th>racePctWhite</th>\n",
       "      <th>racePctAsian</th>\n",
       "      <th>...</th>\n",
       "      <th>PolicAveOTWorked</th>\n",
       "      <th>LandArea</th>\n",
       "      <th>PopDens</th>\n",
       "      <th>PctUsePubTrans</th>\n",
       "      <th>PolicCars</th>\n",
       "      <th>PolicOperBudg</th>\n",
       "      <th>LemasPctPolicOnPatr</th>\n",
       "      <th>LemasGangUnitDeploy</th>\n",
       "      <th>LemasPctOfficDrugUn</th>\n",
       "      <th>PolicBudgPerPop</th>\n",
       "    </tr>\n",
       "  </thead>\n",
       "  <tbody>\n",
       "    <tr>\n",
       "      <th>0</th>\n",
       "      <td>0.20</td>\n",
       "      <td>8</td>\n",
       "      <td>0</td>\n",
       "      <td>0</td>\n",
       "      <td>1</td>\n",
       "      <td>0.19</td>\n",
       "      <td>0.33</td>\n",
       "      <td>0.02</td>\n",
       "      <td>0.90</td>\n",
       "      <td>0.12</td>\n",
       "      <td>...</td>\n",
       "      <td>0.29</td>\n",
       "      <td>0.12</td>\n",
       "      <td>0.26</td>\n",
       "      <td>0.20</td>\n",
       "      <td>0.06</td>\n",
       "      <td>0.04</td>\n",
       "      <td>0.9</td>\n",
       "      <td>0.5</td>\n",
       "      <td>0.32</td>\n",
       "      <td>0.14</td>\n",
       "    </tr>\n",
       "    <tr>\n",
       "      <th>1</th>\n",
       "      <td>0.67</td>\n",
       "      <td>53</td>\n",
       "      <td>0</td>\n",
       "      <td>0</td>\n",
       "      <td>1</td>\n",
       "      <td>0.00</td>\n",
       "      <td>0.16</td>\n",
       "      <td>0.12</td>\n",
       "      <td>0.74</td>\n",
       "      <td>0.45</td>\n",
       "      <td>...</td>\n",
       "      <td>0</td>\n",
       "      <td>0.02</td>\n",
       "      <td>0.12</td>\n",
       "      <td>0.45</td>\n",
       "      <td>0</td>\n",
       "      <td>0</td>\n",
       "      <td>0</td>\n",
       "      <td>0</td>\n",
       "      <td>0.00</td>\n",
       "      <td>0</td>\n",
       "    </tr>\n",
       "    <tr>\n",
       "      <th>2</th>\n",
       "      <td>0.43</td>\n",
       "      <td>24</td>\n",
       "      <td>0</td>\n",
       "      <td>0</td>\n",
       "      <td>1</td>\n",
       "      <td>0.00</td>\n",
       "      <td>0.42</td>\n",
       "      <td>0.49</td>\n",
       "      <td>0.56</td>\n",
       "      <td>0.17</td>\n",
       "      <td>...</td>\n",
       "      <td>0</td>\n",
       "      <td>0.01</td>\n",
       "      <td>0.21</td>\n",
       "      <td>0.02</td>\n",
       "      <td>0</td>\n",
       "      <td>0</td>\n",
       "      <td>0</td>\n",
       "      <td>0</td>\n",
       "      <td>0.00</td>\n",
       "      <td>0</td>\n",
       "    </tr>\n",
       "    <tr>\n",
       "      <th>3</th>\n",
       "      <td>0.12</td>\n",
       "      <td>34</td>\n",
       "      <td>5</td>\n",
       "      <td>81440</td>\n",
       "      <td>1</td>\n",
       "      <td>0.04</td>\n",
       "      <td>0.77</td>\n",
       "      <td>1.00</td>\n",
       "      <td>0.08</td>\n",
       "      <td>0.12</td>\n",
       "      <td>...</td>\n",
       "      <td>0</td>\n",
       "      <td>0.02</td>\n",
       "      <td>0.39</td>\n",
       "      <td>0.28</td>\n",
       "      <td>0</td>\n",
       "      <td>0</td>\n",
       "      <td>0</td>\n",
       "      <td>0</td>\n",
       "      <td>0.00</td>\n",
       "      <td>0</td>\n",
       "    </tr>\n",
       "    <tr>\n",
       "      <th>4</th>\n",
       "      <td>0.03</td>\n",
       "      <td>42</td>\n",
       "      <td>95</td>\n",
       "      <td>6096</td>\n",
       "      <td>1</td>\n",
       "      <td>0.01</td>\n",
       "      <td>0.55</td>\n",
       "      <td>0.02</td>\n",
       "      <td>0.95</td>\n",
       "      <td>0.09</td>\n",
       "      <td>...</td>\n",
       "      <td>0</td>\n",
       "      <td>0.04</td>\n",
       "      <td>0.09</td>\n",
       "      <td>0.02</td>\n",
       "      <td>0</td>\n",
       "      <td>0</td>\n",
       "      <td>0</td>\n",
       "      <td>0</td>\n",
       "      <td>0.00</td>\n",
       "      <td>0</td>\n",
       "    </tr>\n",
       "  </tbody>\n",
       "</table>\n",
       "<p>5 rows × 127 columns</p>\n",
       "</div>"
      ],
      "text/plain": [
       "    ViolentCrimesPerPop    state   county   community    fold    population   \\\n",
       "0                   0.20        8        0           0       1          0.19   \n",
       "1                   0.67       53        0           0       1          0.00   \n",
       "2                   0.43       24        0           0       1          0.00   \n",
       "3                   0.12       34        5       81440       1          0.04   \n",
       "4                   0.03       42       95        6096       1          0.01   \n",
       "\n",
       "    householdsize    racepctblack    racePctWhite    racePctAsian   \\\n",
       "0             0.33            0.02            0.90            0.12   \n",
       "1             0.16            0.12            0.74            0.45   \n",
       "2             0.42            0.49            0.56            0.17   \n",
       "3             0.77            1.00            0.08            0.12   \n",
       "4             0.55            0.02            0.95            0.09   \n",
       "\n",
       "         ...           PolicAveOTWorked    LandArea    PopDens   \\\n",
       "0        ...                        0.29        0.12       0.26   \n",
       "1        ...                           0        0.02       0.12   \n",
       "2        ...                           0        0.01       0.21   \n",
       "3        ...                           0        0.02       0.39   \n",
       "4        ...                           0        0.04       0.09   \n",
       "\n",
       "    PctUsePubTrans    PolicCars    PolicOperBudg    LemasPctPolicOnPatr   \\\n",
       "0              0.20         0.06             0.04                    0.9   \n",
       "1              0.45            0                0                      0   \n",
       "2              0.02            0                0                      0   \n",
       "3              0.28            0                0                      0   \n",
       "4              0.02            0                0                      0   \n",
       "\n",
       "    LemasGangUnitDeploy    LemasPctOfficDrugUn    PolicBudgPerPop   \n",
       "0                    0.5                   0.32               0.14  \n",
       "1                      0                   0.00                  0  \n",
       "2                      0                   0.00                  0  \n",
       "3                      0                   0.00                  0  \n",
       "4                      0                   0.00                  0  \n",
       "\n",
       "[5 rows x 127 columns]"
      ]
     },
     "execution_count": 8,
     "metadata": {},
     "output_type": "execute_result"
    }
   ],
   "source": [
    "# use ix to reorder\n",
    "c = c.loc[:, cols]\n",
    "\n",
    "# drop \n",
    "c=c.drop([' communityname '], axis=1)\n",
    "c.head()"
   ]
  },
  {
   "cell_type": "markdown",
   "metadata": {},
   "source": [
    "### Create Test/Train Split of data"
   ]
  },
  {
   "cell_type": "code",
   "execution_count": 9,
   "metadata": {},
   "outputs": [],
   "source": [
    "from sklearn.model_selection import train_test_split\n",
    "\n",
    "# split dataset into testing and training (70/30)\n",
    "features_train, features_test, target_train, target_test = train_test_split(\n",
    "    c.iloc[:,1:].values, c.iloc[:,0].values, test_size=0.30, random_state=0)"
   ]
  },
  {
   "cell_type": "code",
   "execution_count": 10,
   "metadata": {},
   "outputs": [
    {
     "name": "stdout",
     "output_type": "stream",
     "text": [
      "(599, 126)\n",
      "(1395, 126)\n",
      "(599,)\n",
      "(1395,)\n"
     ]
    }
   ],
   "source": [
    "print(features_test.shape)\n",
    "print(features_train.shape)\n",
    "print(target_test.shape)\n",
    "print(target_train.shape)"
   ]
  },
  {
   "cell_type": "markdown",
   "metadata": {},
   "source": [
    "### Model 1 - LASSO Regression"
   ]
  },
  {
   "cell_type": "code",
   "execution_count": 11,
   "metadata": {},
   "outputs": [
    {
     "name": "stdout",
     "output_type": "stream",
     "text": [
      "Lasso(alpha=0.1, copy_X=True, fit_intercept=True, max_iter=1000,\n",
      "   normalize=False, positive=False, precompute=False, random_state=33,\n",
      "   selection='cyclic', tol=0.0001, warm_start=False)\n",
      "AUC 0.04889288496714473\n",
      "R-squared 0.08875018915026245\n"
     ]
    }
   ],
   "source": [
    "# Lasso Regression\n",
    "# fit a LASSO model to the data\n",
    "from sklearn.linear_model import Lasso\n",
    "model = Lasso(alpha=0.1, random_state=33)\n",
    "model.fit(features_train, target_train)\n",
    "print(model)\n",
    "# make predictions\n",
    "expected = target_test\n",
    "predicted = model.predict(features_test)\n",
    "# summarize the fit of the model\n",
    "mse = np.mean((predicted-expected)**2)\n",
    "print(\"mse\" ,mse)\n",
    "print(\"R-squared\" ,model.score(features_test, target_test))"
   ]
  },
  {
   "cell_type": "code",
   "execution_count": 7,
   "metadata": {},
   "outputs": [
    {
     "ename": "NameError",
     "evalue": "name 'c_reg' is not defined",
     "output_type": "error",
     "traceback": [
      "\u001b[0;31m---------------------------------------------------------------------------\u001b[0m",
      "\u001b[0;31mNameError\u001b[0m                                 Traceback (most recent call last)",
      "\u001b[0;32m<ipython-input-7-f277533d57cf>\u001b[0m in \u001b[0;36m<module>\u001b[0;34m()\u001b[0m\n\u001b[1;32m      1\u001b[0m \u001b[0;31m#Show importance of each feature in Random Forest\u001b[0m\u001b[0;34m\u001b[0m\u001b[0;34m\u001b[0m\u001b[0m\n\u001b[0;32m----> 2\u001b[0;31m \u001b[0mzip\u001b[0m\u001b[0;34m(\u001b[0m\u001b[0mc_reg\u001b[0m\u001b[0;34m.\u001b[0m\u001b[0mcolumns\u001b[0m\u001b[0;34m[\u001b[0m\u001b[0;36m1\u001b[0m\u001b[0;34m:\u001b[0m\u001b[0;36m20\u001b[0m\u001b[0;34m]\u001b[0m\u001b[0;34m,\u001b[0m \u001b[0mmodel\u001b[0m\u001b[0;34m.\u001b[0m\u001b[0mfeature_importances_\u001b[0m\u001b[0;34m)\u001b[0m\u001b[0;34m\u001b[0m\u001b[0m\n\u001b[0m",
      "\u001b[0;31mNameError\u001b[0m: name 'c_reg' is not defined"
     ]
    }
   ],
   "source": [
    "#Show importance of each feature in Random Forest\n",
    "zip(c_reg.columns[1:20], model.feature_importances_)"
   ]
  },
  {
   "cell_type": "code",
   "execution_count": 12,
   "metadata": {
    "scrolled": true
   },
   "outputs": [
    {
     "name": "stdout",
     "output_type": "stream",
     "text": [
      "AUC: 0.6048965782946856\n",
      "             precision    recall  f1-score   support\n",
      "\n",
      "          0       0.73      0.57      0.64       381\n",
      "          1       0.46      0.64      0.53       218\n",
      "\n",
      "avg / total       0.63      0.60      0.60       599\n",
      "\n",
      "[[218 163]\n",
      " [ 79 139]]\n"
     ]
    }
   ],
   "source": [
    "from sklearn.metrics import accuracy_score, precision_score, recall_score, f1_score\n",
    "from sklearn.metrics import roc_curve, auc, confusion_matrix, classification_report, roc_auc_score\n",
    "\n",
    "expected = target_test\n",
    "predicted = model.predict(features_test)\n",
    "\n",
    "## create threshold (median) for testing accuracy of classification\n",
    "expected = np.where(expected > c.iloc[:,0].values.mean(), 1, 0)\n",
    "predicted = np.where(predicted > c.iloc[:,0].values.mean(), 1, 0)\n",
    "\n",
    "## output predictions\n",
    "false_positive_rate, true_positive_rate, thresholds = roc_curve(expected, predicted)\n",
    "print(\"AUC:\" ,auc(false_positive_rate, true_positive_rate))\n",
    "print(classification_report(expected, predicted))\n",
    "print(confusion_matrix(expected, predicted))"
   ]
  },
  {
   "cell_type": "markdown",
   "metadata": {},
   "source": [
    "#### visualize correlation matrix"
   ]
  },
  {
   "cell_type": "code",
   "execution_count": 13,
   "metadata": {
    "scrolled": true
   },
   "outputs": [
    {
     "data": {
      "image/png": "[encoded data removed]",
      "text/plain": [
       "<Figure size 432x288 with 2 Axes>"
      ]
     },
     "metadata": {},
     "output_type": "display_data"
    }
   ],
   "source": [
    "%matplotlib inline\n",
    "import seaborn as sns\n",
    "import matplotlib.pyplot as plt     \n",
    "\n",
    "## define confusion matrix\n",
    "cm = confusion_matrix(expected, predicted)\n",
    "\n",
    "ax= plt.subplot()\n",
    "sns.heatmap(cm, annot=True, ax = ax); #annot=True to annotate cells\n",
    "\n",
    "# labels, title and ticks\n",
    "ax.set_xlabel('Predicted labels');ax.set_ylabel('True labels'); \n",
    "ax.set_title('Confusion Matrix'); \n",
    "ax.xaxis.set_ticklabels(['crime below average', 'crime above avaerage']); ax.yaxis.set_ticklabels(['crime below average', 'crime above average']);\n"
   ]
  },
  {
   "cell_type": "code",
   "execution_count": 14,
   "metadata": {},
   "outputs": [
    {
     "name": "stdout",
     "output_type": "stream",
     "text": [
      "BEST SCORE 0.6508178764088925\n",
      "BEST PARAM {'alpha': 0.001}\n",
      "Time to run 0.302797 seconds\n"
     ]
    }
   ],
   "source": [
    "## create Grid Search to optimize tuning parameters\n",
    "from sklearn.model_selection import train_test_split, cross_val_score, KFold, GridSearchCV\n",
    "import time\n",
    "\n",
    "# use a full grid over all parameters\n",
    "param_grid = {\"alpha\": [.001, .1, 1, 10, 100]}\n",
    "start_time = time.clock()\n",
    "\n",
    "# run grid search\n",
    "grid_search = GridSearchCV(model, param_grid=param_grid,n_jobs=-1)\n",
    "grid_search.fit(features_train, target_train)\n",
    "\n",
    "\n",
    "#print(grid_search.cv_results_)\n",
    "#print(\"SCORES\", grid_search.cv_results_)\n",
    "print(\"BEST SCORE\", grid_search.best_score_)\n",
    "print(\"BEST PARAM\", grid_search.best_params_)\n",
    "print(\"Time to run\", time.clock() - start_time, \"seconds\")"
   ]
  },
  {
   "cell_type": "markdown",
   "metadata": {},
   "source": [
    "#### LASSO Performance:\n",
    "The baseline performed very poorly with an R^2 of just 0.089 and an accuracy of ~63% (above a 50% a priori on classification). \n",
    "#### Grid Search:\n",
    "I used a grid search in this model, which evaluates each combination of parameters and chooses the best.  In this case, it found the best value for \"alpha\" (to .001). Changing this parameter improved the model R^2 by .562 (to .651) over the default parameters (aplha=0.1).  This change is alarming, as is an alpha of .001, which is less linear, therefore at an increased risk of overfitting and may not generalize as well to new data."
   ]
  },
  {
   "cell_type": "markdown",
   "metadata": {},
   "source": [
    "### Model 2 - Ridge Regression"
   ]
  },
  {
   "cell_type": "code",
   "execution_count": 15,
   "metadata": {
    "scrolled": true
   },
   "outputs": [
    {
     "name": "stdout",
     "output_type": "stream",
     "text": [
      "Ridge(alpha=0.1, copy_X=True, fit_intercept=True, max_iter=None,\n",
      "   normalize=False, random_state=33, solver='auto', tol=0.001)\n",
      "MSE 0.019146148436197198\n",
      "R-squared 0.6431602644697738\n"
     ]
    }
   ],
   "source": [
    "# Ridge Regression\n",
    "import numpy as np\n",
    "from sklearn import datasets\n",
    "from sklearn.linear_model import Ridge\n",
    "\n",
    "# fit a ridge regression model to the data\n",
    "model = Ridge(alpha=0.1, random_state=33)\n",
    "model.fit(features_train, target_train)\n",
    "print(model)\n",
    "# make predictions\n",
    "expected = target_test\n",
    "predicted = model.predict(features_test)\n",
    "# summarize the fit of the model\n",
    "mse = np.mean((predicted-expected)**2)\n",
    "print(\"MSE\" ,mse)\n",
    "print(\"R-squared\" ,model.score(features_test, target_test))"
   ]
  },
  {
   "cell_type": "code",
   "execution_count": 16,
   "metadata": {},
   "outputs": [
    {
     "name": "stdout",
     "output_type": "stream",
     "text": [
      "Average Rate of Violent Crime: 0.2379789368104313\n",
      "AUC: 0.8396843169833129\n",
      "             precision    recall  f1-score   support\n",
      "\n",
      "          0       0.89      0.86      0.88       381\n",
      "          1       0.77      0.82      0.79       218\n",
      "\n",
      "avg / total       0.85      0.84      0.85       599\n",
      "\n",
      "[[327  54]\n",
      " [ 39 179]]\n"
     ]
    }
   ],
   "source": [
    "from sklearn.metrics import accuracy_score, precision_score, recall_score, f1_score\n",
    "from sklearn.metrics import roc_curve, auc, confusion_matrix, classification_report, roc_auc_score\n",
    "\n",
    "expected = target_test\n",
    "predicted = model.predict(features_test)\n",
    "\n",
    "## check mean rate of violent crime\n",
    "print(\"Average Rate of Violent Crime:\" ,c.iloc[:,0].values.mean())\n",
    "\n",
    "## create threshold (mean) for testing accuracy of classification\n",
    "expected = np.where(expected > c.iloc[:,0].values.mean(), 1, 0)\n",
    "predicted = np.where(predicted > c.iloc[:,0].values.mean(), 1, 0)\n",
    "\n",
    "## output predictions\n",
    "false_positive_rate, true_positive_rate, thresholds = roc_curve(expected, predicted)\n",
    "print(\"AUC:\" ,auc(false_positive_rate, true_positive_rate))\n",
    "print(classification_report(expected, predicted))\n",
    "print(confusion_matrix(expected, predicted))"
   ]
  },
  {
   "cell_type": "code",
   "execution_count": 17,
   "metadata": {},
   "outputs": [
    {
     "data": {
      "image/png": "[encoded data removed]",
      "text/plain": [
       "<Figure size 432x288 with 2 Axes>"
      ]
     },
     "metadata": {},
     "output_type": "display_data"
    }
   ],
   "source": [
    "%matplotlib inline\n",
    "import seaborn as sns\n",
    "import matplotlib.pyplot as plt     \n",
    "\n",
    "## define confusion matrix\n",
    "cm = confusion_matrix(expected, predicted)\n",
    "\n",
    "ax= plt.subplot()\n",
    "sns.heatmap(cm, annot=True, ax = ax); #annot=True to annotate cells\n",
    "\n",
    "# labels, title and ticks\n",
    "ax.set_xlabel('Predicted labels');ax.set_ylabel('True labels'); \n",
    "ax.set_title('Confusion Matrix'); \n",
    "ax.xaxis.set_ticklabels(['crime below average', 'crime above avaerage']); ax.yaxis.set_ticklabels(['crime below average', 'crime above average']);"
   ]
  },
  {
   "cell_type": "code",
   "execution_count": 18,
   "metadata": {},
   "outputs": [
    {
     "name": "stdout",
     "output_type": "stream",
     "text": [
      "BEST SCORE 0.6647430557185637\n",
      "BEST PARAM {'alpha': 1}\n",
      "Time to run 0.3371529999999998 seconds\n"
     ]
    }
   ],
   "source": [
    "## create Grid Search to optimize tuning parameters\n",
    "# use a full grid over all parameters\n",
    "param_grid = {\"alpha\": [.001, .1, 1, 10, 100]}\n",
    "start_time = time.clock()\n",
    "\n",
    "\n",
    "# run grid search\n",
    "grid_search = GridSearchCV(model, param_grid=param_grid,n_jobs=-1, cv=5)\n",
    "grid_search.fit(features_train, target_train)\n",
    "\n",
    "\n",
    "#print(grid_search.cv_results_)\n",
    "#print(\"SCORES\", grid_search.cv_results_)\n",
    "print(\"BEST SCORE\", grid_search.best_score_)\n",
    "print(\"BEST PARAM\", grid_search.best_params_)\n",
    "print(\"Time to run\", time.clock() - start_time, \"seconds\")"
   ]
  },
  {
   "cell_type": "markdown",
   "metadata": {},
   "source": [
    "#### Ridge Regression Performance:\n",
    "The baseline performed fairly well with an R^2 of 0.643, Accuracy of ~85% (on classification). \n",
    "#### Grid Search:\n",
    "I used a grid search in this model, which evaluates each combination of parameters and chooses the best.  In this case, it found the best value for \"alpha\" (1, with a higher alpha leading to a more linear model that is at less risk of overfitting).  Changing this parameter improved the model R^2 by .022 (to .665) over the default parameters (aplha=0.1).\n",
    "#### Cross Validation:\n",
    "Additionally, I added Cross Validation which takes the average 5 subsets (k-folds) used to create a more generalizable model and improve performance.  It does this by holding out a different sample each time and using the remaining data to train on.  This allows the use of all the data in the training of the model."
   ]
  },
  {
   "cell_type": "markdown",
   "metadata": {},
   "source": [
    "### Model 3 - ElasticNet Regression"
   ]
  },
  {
   "cell_type": "code",
   "execution_count": 19,
   "metadata": {},
   "outputs": [
    {
     "name": "stdout",
     "output_type": "stream",
     "text": [
      "ElasticNet(alpha=0.1, copy_X=True, fit_intercept=True, l1_ratio=0.5,\n",
      "      max_iter=1000, normalize=False, positive=False, precompute=False,\n",
      "      random_state=33, selection='cyclic', tol=0.0001, warm_start=False)\n",
      "0.048936888690755694\n",
      "0.08793006195089348\n"
     ]
    }
   ],
   "source": [
    "# ElasticNet Regression\n",
    "# fit a model to the data\n",
    "from sklearn.linear_model import ElasticNet\n",
    "model = ElasticNet(alpha=0.1, random_state=33)\n",
    "model.fit(features_train, target_train)\n",
    "print(model)\n",
    "# make predictions\n",
    "expected = target_test\n",
    "predicted = model.predict(features_test)\n",
    "# summarize the fit of the model\n",
    "mse = np.mean((predicted-expected)**2)\n",
    "print(mse)\n",
    "print(model.score(features_test, target_test))"
   ]
  },
  {
   "cell_type": "code",
   "execution_count": 20,
   "metadata": {},
   "outputs": [
    {
     "name": "stdout",
     "output_type": "stream",
     "text": [
      "DT Accuracy Score 0.5976627712854758\n",
      "AUC: 0.6062089142526907\n",
      "             precision    recall  f1-score   support\n",
      "\n",
      "          0       0.73      0.57      0.65       381\n",
      "          1       0.46      0.64      0.54       218\n",
      "\n",
      "avg / total       0.64      0.60      0.61       599\n",
      "\n",
      "[[219 162]\n",
      " [ 79 139]]\n"
     ]
    }
   ],
   "source": [
    "from sklearn.metrics import accuracy_score, precision_score, recall_score, f1_score\n",
    "from sklearn.metrics import roc_curve, auc, confusion_matrix, classification_report, roc_auc_score\n",
    "#Notice I did not load my Datamining packages yet (ie decision tree). I will do that as I use them.\n",
    "\n",
    "expected = target_test\n",
    "predicted = model.predict(features_test)\n",
    "\n",
    "## create threshold (mean) for testing accuracy of classification\n",
    "expected = np.where(expected > c.iloc[:,0].values.mean(), 1, 0)\n",
    "predicted = np.where(predicted > c.iloc[:,0].values.mean(), 1, 0)\n",
    "\n",
    "## output predictions\n",
    "false_positive_rate, true_positive_rate, thresholds = roc_curve(expected, predicted)\n",
    "print(\"DT Accuracy Score\", accuracy_score(expected, predicted))\n",
    "print(\"AUC:\" ,auc(false_positive_rate, true_positive_rate))\n",
    "print(classification_report(expected, predicted))\n",
    "print(confusion_matrix(expected, predicted))"
   ]
  },
  {
   "cell_type": "code",
   "execution_count": 21,
   "metadata": {},
   "outputs": [
    {
     "name": "stdout",
     "output_type": "stream",
     "text": [
      "BEST SCORE 0.6597001651100803\n",
      "BEST PARAM {'alpha': 0.001}\n",
      "Time to run 0.4842240000000002 seconds\n"
     ]
    }
   ],
   "source": [
    "## create Grid Search to optimize tuning parameters\n",
    "# use a full grid over all parameters\n",
    "param_grid = {\"alpha\": [.001, .1, 1, 10, 100]}\n",
    "start_time = time.clock()\n",
    "\n",
    "\n",
    "# run grid search\n",
    "grid_search = GridSearchCV(model, param_grid=param_grid,n_jobs=-1, cv=5)\n",
    "grid_search.fit(features_train, target_train)\n",
    "\n",
    "\n",
    "#print(grid_search.cv_results_)\n",
    "#print(\"SCORES\", grid_search.cv_results_)\n",
    "print(\"BEST SCORE\", grid_search.best_score_)\n",
    "print(\"BEST PARAM\", grid_search.best_params_)\n",
    "print(\"Time to run\", time.clock() - start_time, \"seconds\")"
   ]
  },
  {
   "cell_type": "markdown",
   "metadata": {},
   "source": [
    "#### Elastic Net Performance:\n",
    "The baseline performed very poorly with an R^2 of just 0.089 and an AUC of 0.61 (on classification). \n",
    "#### w/Grid Search:\n",
    "I used a grid search in this model, which evaluates each combination of parameters and chooses the best.  In this case, it found the best value for \"alpha\" (.001, with a higher alpha leading to a more linear model that is at less risk of overfitting).  Changing this parameter improved the model R^2 by .572 (to 0.66) over the default parameters (aplha=0.1). This change is alarming, as is an alpha of .001, which is at an increased risk of overfitting and may not generalize as well to new data.  \n",
    "\n",
    "#### w/Cross Validation:\n",
    "Additionally, I added Cross Validation which takes the average 5 subsets (k-folds) used to create a more generalizable model and improve performance.  It does this by holding out a different sample each time and using the remaining data to train on.  This allows the use of all the data in the training of the model."
   ]
  },
  {
   "cell_type": "markdown",
   "metadata": {},
   "source": [
    "### Model 4 - OLS regression"
   ]
  },
  {
   "cell_type": "code",
   "execution_count": 22,
   "metadata": {},
   "outputs": [
    {
     "name": "stdout",
     "output_type": "stream",
     "text": [
      "LinearRegression(copy_X=True, fit_intercept=True, n_jobs=1, normalize=False)\n",
      "MSE 0.019279524130706372\n",
      "R-squared 0.6406744513197601\n"
     ]
    }
   ],
   "source": [
    "from sklearn import linear_model\n",
    "\n",
    "model = linear_model.LinearRegression()\n",
    "\n",
    "model.fit(features_train, target_train)\n",
    "print(model)\n",
    "# make predictions\n",
    "expected = target_test\n",
    "predicted = model.predict(features_test)\n",
    "# summarize the fit of the model\n",
    "mse = np.mean((predicted-expected)**2)\n",
    "print(\"MSE\" ,mse)\n",
    "print(\"R-squared\" ,model.score(features_test, target_test))"
   ]
  },
  {
   "cell_type": "code",
   "execution_count": 23,
   "metadata": {},
   "outputs": [
    {
     "name": "stdout",
     "output_type": "stream",
     "text": [
      "AUC: 0.8311601531459943\n",
      "             precision    recall  f1-score   support\n",
      "\n",
      "          0       0.89      0.85      0.87       381\n",
      "          1       0.76      0.81      0.78       218\n",
      "\n",
      "avg / total       0.84      0.84      0.84       599\n",
      "\n",
      "[[324  57]\n",
      " [ 41 177]]\n"
     ]
    }
   ],
   "source": [
    "from sklearn.metrics import accuracy_score, precision_score, recall_score, f1_score\n",
    "from sklearn.metrics import roc_curve, auc, confusion_matrix, classification_report, roc_auc_score\n",
    "#Notice I did not load my Datamining packages yet (ie decision tree). I will do that as I use them.\n",
    "\n",
    "expected = target_test\n",
    "predicted = model.predict(features_test)\n",
    "\n",
    "## create threshold (mean) for testing accuracy of classification\n",
    "expected = np.where(expected > c.iloc[:,0].values.mean(), 1, 0)\n",
    "predicted = np.where(predicted > c.iloc[:,0].values.mean(), 1, 0)\n",
    "\n",
    "## output predictions\n",
    "false_positive_rate, true_positive_rate, thresholds = roc_curve(expected, predicted)\n",
    "print(\"AUC:\" ,auc(false_positive_rate, true_positive_rate))\n",
    "print(classification_report(expected, predicted))\n",
    "print(confusion_matrix(expected, predicted))"
   ]
  },
  {
   "cell_type": "markdown",
   "metadata": {},
   "source": [
    "#### OLS Performance:\n",
    "The simple OLS regression model performed relatively well (R^2 of .641, AUC of 0.83, and accuracy of 84%) with no adjustments.  It serves as a good baseline for regression model performance."
   ]
  },
  {
   "cell_type": "markdown",
   "metadata": {},
   "source": [
    "### Conclusion:\n",
    "\n",
    "The best performing model was the Ridge Regression with an alpha of 1 and k=5 fold Cross Validation.  The models R^2 was 0.665, which means that just over 2/3rds of the variance was explained.  Using the OLS regression as a baseline (R^2 = .641), this is an improvement of 0.024 (or 2.4%).  "
   ]
  },
  {
   "cell_type": "markdown",
   "metadata": {},
   "source": [
    "## END"
   ]
  }
 ],
 "metadata": {
  "kernelspec": {
   "display_name": "Python 3",
   "language": "python",
   "name": "python3"
  },
  "language_info": {
   "codemirror_mode": {
    "name": "ipython",
    "version": 3
   },
   "file_extension": ".py",
   "mimetype": "text/x-python",
   "name": "python",
   "nbconvert_exporter": "python",
   "pygments_lexer": "ipython3",
   "version": "3.6.5"
  }
 },
 "nbformat": 4,
 "nbformat_minor": 2
}
