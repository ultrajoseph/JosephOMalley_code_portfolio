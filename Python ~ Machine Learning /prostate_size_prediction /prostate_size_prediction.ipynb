{
 "cells": [
  {
   "cell_type": "markdown",
   "metadata": {},
   "source": [
    "## Prostate size prediction"
   ]
  },
  {
   "cell_type": "markdown",
   "metadata": {},
   "source": [
    "#### Joseph O'Malley"
   ]
  },
  {
   "cell_type": "markdown",
   "metadata": {},
   "source": [
    "Notebook 4: Prostate Dataset "
   ]
  },
  {
   "cell_type": "markdown",
   "metadata": {},
   "source": [
    "#### Load in Prostate dataset"
   ]
  },
  {
   "cell_type": "code",
   "execution_count": 1,
   "metadata": {
    "scrolled": true
   },
   "outputs": [
    {
     "data": {
      "text/html": [
       "<div>\n",
       "<style scoped>\n",
       "    .dataframe tbody tr th:only-of-type {\n",
       "        vertical-align: middle;\n",
       "    }\n",
       "\n",
       "    .dataframe tbody tr th {\n",
       "        vertical-align: top;\n",
       "    }\n",
       "\n",
       "    .dataframe thead th {\n",
       "        text-align: right;\n",
       "    }\n",
       "</style>\n",
       "<table border=\"1\" class=\"dataframe\">\n",
       "  <thead>\n",
       "    <tr style=\"text-align: right;\">\n",
       "      <th></th>\n",
       "      <th>Obs</th>\n",
       "      <th>lcavol</th>\n",
       "      <th>lweight</th>\n",
       "      <th>age</th>\n",
       "      <th>lbph</th>\n",
       "      <th>svi</th>\n",
       "      <th>lcp</th>\n",
       "      <th>gleason</th>\n",
       "      <th>pgg45</th>\n",
       "      <th>lpsa</th>\n",
       "    </tr>\n",
       "  </thead>\n",
       "  <tbody>\n",
       "    <tr>\n",
       "      <th>0</th>\n",
       "      <td>1</td>\n",
       "      <td>-0.579818</td>\n",
       "      <td>2.769459</td>\n",
       "      <td>50</td>\n",
       "      <td>-1.386294</td>\n",
       "      <td>0</td>\n",
       "      <td>-1.386294</td>\n",
       "      <td>6</td>\n",
       "      <td>0</td>\n",
       "      <td>-0.430783</td>\n",
       "    </tr>\n",
       "    <tr>\n",
       "      <th>1</th>\n",
       "      <td>2</td>\n",
       "      <td>-0.994252</td>\n",
       "      <td>3.319626</td>\n",
       "      <td>58</td>\n",
       "      <td>-1.386294</td>\n",
       "      <td>0</td>\n",
       "      <td>-1.386294</td>\n",
       "      <td>6</td>\n",
       "      <td>0</td>\n",
       "      <td>-0.162519</td>\n",
       "    </tr>\n",
       "    <tr>\n",
       "      <th>2</th>\n",
       "      <td>3</td>\n",
       "      <td>-0.510826</td>\n",
       "      <td>2.691243</td>\n",
       "      <td>74</td>\n",
       "      <td>-1.386294</td>\n",
       "      <td>0</td>\n",
       "      <td>-1.386294</td>\n",
       "      <td>7</td>\n",
       "      <td>20</td>\n",
       "      <td>-0.162519</td>\n",
       "    </tr>\n",
       "    <tr>\n",
       "      <th>3</th>\n",
       "      <td>4</td>\n",
       "      <td>-1.203973</td>\n",
       "      <td>3.282789</td>\n",
       "      <td>58</td>\n",
       "      <td>-1.386294</td>\n",
       "      <td>0</td>\n",
       "      <td>-1.386294</td>\n",
       "      <td>6</td>\n",
       "      <td>0</td>\n",
       "      <td>-0.162519</td>\n",
       "    </tr>\n",
       "    <tr>\n",
       "      <th>4</th>\n",
       "      <td>5</td>\n",
       "      <td>0.751416</td>\n",
       "      <td>3.432373</td>\n",
       "      <td>62</td>\n",
       "      <td>-1.386294</td>\n",
       "      <td>0</td>\n",
       "      <td>-1.386294</td>\n",
       "      <td>6</td>\n",
       "      <td>0</td>\n",
       "      <td>0.371564</td>\n",
       "    </tr>\n",
       "  </tbody>\n",
       "</table>\n",
       "</div>"
      ],
      "text/plain": [
       "   Obs    lcavol   lweight  age      lbph  svi       lcp  gleason  pgg45  \\\n",
       "0    1 -0.579818  2.769459   50 -1.386294    0 -1.386294        6      0   \n",
       "1    2 -0.994252  3.319626   58 -1.386294    0 -1.386294        6      0   \n",
       "2    3 -0.510826  2.691243   74 -1.386294    0 -1.386294        7     20   \n",
       "3    4 -1.203973  3.282789   58 -1.386294    0 -1.386294        6      0   \n",
       "4    5  0.751416  3.432373   62 -1.386294    0 -1.386294        6      0   \n",
       "\n",
       "       lpsa  \n",
       "0 -0.430783  \n",
       "1 -0.162519  \n",
       "2 -0.162519  \n",
       "3 -0.162519  \n",
       "4  0.371564  "
      ]
     },
     "execution_count": 1,
     "metadata": {},
     "output_type": "execute_result"
    }
   ],
   "source": [
    "## load in data and display data frame\n",
    "\n",
    "# import module(s) into namespace\n",
    "import pandas as pd #we almost always need pandas because we like data frames\n",
    "import numpy as np\n",
    "pd.set_option('display.max_colwidth', 150) #important for getting all the text\n",
    "\n",
    "\n",
    "\n",
    "##load in names\n",
    "c=pd.read_csv('/Users/ultrajosef/Downloads/Macbook 2012 Files/BIA6303/data/prostate.csv'\n",
    "              ,sep = \",\")\n",
    "c.shape\n",
    "c.head()"
   ]
  },
  {
   "cell_type": "code",
   "execution_count": 2,
   "metadata": {
    "scrolled": true
   },
   "outputs": [
    {
     "data": {
      "text/plain": [
       "Obs          int64\n",
       "lcavol     float64\n",
       "lweight    float64\n",
       "age          int64\n",
       "lbph       float64\n",
       "svi          int64\n",
       "lcp        float64\n",
       "gleason      int64\n",
       "pgg45        int64\n",
       "lpsa       float64\n",
       "dtype: object"
      ]
     },
     "execution_count": 2,
     "metadata": {},
     "output_type": "execute_result"
    }
   ],
   "source": [
    "## check datatypes\n",
    "c.dtypes"
   ]
  },
  {
   "cell_type": "code",
   "execution_count": 3,
   "metadata": {},
   "outputs": [],
   "source": [
    "### Replace nulls with median\n",
    "c.fillna((c.median()), inplace=True)"
   ]
  },
  {
   "cell_type": "code",
   "execution_count": 4,
   "metadata": {
    "scrolled": true
   },
   "outputs": [
    {
     "data": {
      "text/html": [
       "<div>\n",
       "<style scoped>\n",
       "    .dataframe tbody tr th:only-of-type {\n",
       "        vertical-align: middle;\n",
       "    }\n",
       "\n",
       "    .dataframe tbody tr th {\n",
       "        vertical-align: top;\n",
       "    }\n",
       "\n",
       "    .dataframe thead th {\n",
       "        text-align: right;\n",
       "    }\n",
       "</style>\n",
       "<table border=\"1\" class=\"dataframe\">\n",
       "  <thead>\n",
       "    <tr style=\"text-align: right;\">\n",
       "      <th></th>\n",
       "      <th>Obs</th>\n",
       "      <th>lcavol</th>\n",
       "      <th>lweight</th>\n",
       "      <th>age</th>\n",
       "      <th>lbph</th>\n",
       "      <th>svi</th>\n",
       "      <th>lcp</th>\n",
       "      <th>gleason</th>\n",
       "      <th>pgg45</th>\n",
       "      <th>lpsa</th>\n",
       "    </tr>\n",
       "  </thead>\n",
       "  <tbody>\n",
       "    <tr>\n",
       "      <th>count</th>\n",
       "      <td>97.000000</td>\n",
       "      <td>97.000000</td>\n",
       "      <td>97.000000</td>\n",
       "      <td>97.000000</td>\n",
       "      <td>97.000000</td>\n",
       "      <td>97.000000</td>\n",
       "      <td>97.000000</td>\n",
       "      <td>97.000000</td>\n",
       "      <td>97.000000</td>\n",
       "      <td>97.000000</td>\n",
       "    </tr>\n",
       "    <tr>\n",
       "      <th>mean</th>\n",
       "      <td>49.000000</td>\n",
       "      <td>1.350010</td>\n",
       "      <td>3.628943</td>\n",
       "      <td>63.865979</td>\n",
       "      <td>0.100356</td>\n",
       "      <td>0.216495</td>\n",
       "      <td>-0.179366</td>\n",
       "      <td>6.752577</td>\n",
       "      <td>24.381443</td>\n",
       "      <td>2.478387</td>\n",
       "    </tr>\n",
       "    <tr>\n",
       "      <th>std</th>\n",
       "      <td>28.145456</td>\n",
       "      <td>1.178625</td>\n",
       "      <td>0.428411</td>\n",
       "      <td>7.445117</td>\n",
       "      <td>1.450807</td>\n",
       "      <td>0.413995</td>\n",
       "      <td>1.398250</td>\n",
       "      <td>0.722134</td>\n",
       "      <td>28.204035</td>\n",
       "      <td>1.154329</td>\n",
       "    </tr>\n",
       "    <tr>\n",
       "      <th>min</th>\n",
       "      <td>1.000000</td>\n",
       "      <td>-1.347074</td>\n",
       "      <td>2.374906</td>\n",
       "      <td>41.000000</td>\n",
       "      <td>-1.386294</td>\n",
       "      <td>0.000000</td>\n",
       "      <td>-1.386294</td>\n",
       "      <td>6.000000</td>\n",
       "      <td>0.000000</td>\n",
       "      <td>-0.430783</td>\n",
       "    </tr>\n",
       "    <tr>\n",
       "      <th>25%</th>\n",
       "      <td>25.000000</td>\n",
       "      <td>0.512824</td>\n",
       "      <td>3.375880</td>\n",
       "      <td>60.000000</td>\n",
       "      <td>-1.386294</td>\n",
       "      <td>0.000000</td>\n",
       "      <td>-1.386294</td>\n",
       "      <td>6.000000</td>\n",
       "      <td>0.000000</td>\n",
       "      <td>1.731656</td>\n",
       "    </tr>\n",
       "    <tr>\n",
       "      <th>50%</th>\n",
       "      <td>49.000000</td>\n",
       "      <td>1.446919</td>\n",
       "      <td>3.623007</td>\n",
       "      <td>65.000000</td>\n",
       "      <td>0.300105</td>\n",
       "      <td>0.000000</td>\n",
       "      <td>-0.798508</td>\n",
       "      <td>7.000000</td>\n",
       "      <td>15.000000</td>\n",
       "      <td>2.591516</td>\n",
       "    </tr>\n",
       "    <tr>\n",
       "      <th>75%</th>\n",
       "      <td>73.000000</td>\n",
       "      <td>2.127041</td>\n",
       "      <td>3.876396</td>\n",
       "      <td>68.000000</td>\n",
       "      <td>1.558145</td>\n",
       "      <td>0.000000</td>\n",
       "      <td>1.178655</td>\n",
       "      <td>7.000000</td>\n",
       "      <td>40.000000</td>\n",
       "      <td>3.056357</td>\n",
       "    </tr>\n",
       "    <tr>\n",
       "      <th>max</th>\n",
       "      <td>97.000000</td>\n",
       "      <td>3.821004</td>\n",
       "      <td>4.780383</td>\n",
       "      <td>79.000000</td>\n",
       "      <td>2.326302</td>\n",
       "      <td>1.000000</td>\n",
       "      <td>2.904165</td>\n",
       "      <td>9.000000</td>\n",
       "      <td>100.000000</td>\n",
       "      <td>5.582932</td>\n",
       "    </tr>\n",
       "  </tbody>\n",
       "</table>\n",
       "</div>"
      ],
      "text/plain": [
       "             Obs     lcavol    lweight        age       lbph        svi  \\\n",
       "count  97.000000  97.000000  97.000000  97.000000  97.000000  97.000000   \n",
       "mean   49.000000   1.350010   3.628943  63.865979   0.100356   0.216495   \n",
       "std    28.145456   1.178625   0.428411   7.445117   1.450807   0.413995   \n",
       "min     1.000000  -1.347074   2.374906  41.000000  -1.386294   0.000000   \n",
       "25%    25.000000   0.512824   3.375880  60.000000  -1.386294   0.000000   \n",
       "50%    49.000000   1.446919   3.623007  65.000000   0.300105   0.000000   \n",
       "75%    73.000000   2.127041   3.876396  68.000000   1.558145   0.000000   \n",
       "max    97.000000   3.821004   4.780383  79.000000   2.326302   1.000000   \n",
       "\n",
       "             lcp    gleason       pgg45       lpsa  \n",
       "count  97.000000  97.000000   97.000000  97.000000  \n",
       "mean   -0.179366   6.752577   24.381443   2.478387  \n",
       "std     1.398250   0.722134   28.204035   1.154329  \n",
       "min    -1.386294   6.000000    0.000000  -0.430783  \n",
       "25%    -1.386294   6.000000    0.000000   1.731656  \n",
       "50%    -0.798508   7.000000   15.000000   2.591516  \n",
       "75%     1.178655   7.000000   40.000000   3.056357  \n",
       "max     2.904165   9.000000  100.000000   5.582932  "
      ]
     },
     "execution_count": 4,
     "metadata": {},
     "output_type": "execute_result"
    }
   ],
   "source": [
    "## check distribution of numeric columns\n",
    "c.describe()"
   ]
  },
  {
   "cell_type": "code",
   "execution_count": 5,
   "metadata": {},
   "outputs": [
    {
     "data": {
      "text/plain": [
       "['lpsa',\n",
       " 'Obs',\n",
       " 'lcavol',\n",
       " 'lweight',\n",
       " 'age',\n",
       " 'lbph',\n",
       " 'svi',\n",
       " 'lcp',\n",
       " 'gleason',\n",
       " 'pgg45']"
      ]
     },
     "execution_count": 5,
     "metadata": {},
     "output_type": "execute_result"
    }
   ],
   "source": [
    "# move the column to head of list using index, pop and insert\n",
    "cols = list(c)\n",
    "cols.insert(0, cols.pop(cols.index('lpsa')))\n",
    "cols"
   ]
  },
  {
   "cell_type": "code",
   "execution_count": 6,
   "metadata": {
    "scrolled": true
   },
   "outputs": [
    {
     "data": {
      "text/html": [
       "<div>\n",
       "<style scoped>\n",
       "    .dataframe tbody tr th:only-of-type {\n",
       "        vertical-align: middle;\n",
       "    }\n",
       "\n",
       "    .dataframe tbody tr th {\n",
       "        vertical-align: top;\n",
       "    }\n",
       "\n",
       "    .dataframe thead th {\n",
       "        text-align: right;\n",
       "    }\n",
       "</style>\n",
       "<table border=\"1\" class=\"dataframe\">\n",
       "  <thead>\n",
       "    <tr style=\"text-align: right;\">\n",
       "      <th></th>\n",
       "      <th>lpsa</th>\n",
       "      <th>lcavol</th>\n",
       "      <th>lweight</th>\n",
       "      <th>age</th>\n",
       "      <th>lbph</th>\n",
       "      <th>svi</th>\n",
       "      <th>lcp</th>\n",
       "      <th>gleason</th>\n",
       "      <th>pgg45</th>\n",
       "    </tr>\n",
       "  </thead>\n",
       "  <tbody>\n",
       "    <tr>\n",
       "      <th>0</th>\n",
       "      <td>-0.430783</td>\n",
       "      <td>-0.579818</td>\n",
       "      <td>2.769459</td>\n",
       "      <td>50</td>\n",
       "      <td>-1.386294</td>\n",
       "      <td>0</td>\n",
       "      <td>-1.386294</td>\n",
       "      <td>6</td>\n",
       "      <td>0</td>\n",
       "    </tr>\n",
       "    <tr>\n",
       "      <th>1</th>\n",
       "      <td>-0.162519</td>\n",
       "      <td>-0.994252</td>\n",
       "      <td>3.319626</td>\n",
       "      <td>58</td>\n",
       "      <td>-1.386294</td>\n",
       "      <td>0</td>\n",
       "      <td>-1.386294</td>\n",
       "      <td>6</td>\n",
       "      <td>0</td>\n",
       "    </tr>\n",
       "    <tr>\n",
       "      <th>2</th>\n",
       "      <td>-0.162519</td>\n",
       "      <td>-0.510826</td>\n",
       "      <td>2.691243</td>\n",
       "      <td>74</td>\n",
       "      <td>-1.386294</td>\n",
       "      <td>0</td>\n",
       "      <td>-1.386294</td>\n",
       "      <td>7</td>\n",
       "      <td>20</td>\n",
       "    </tr>\n",
       "    <tr>\n",
       "      <th>3</th>\n",
       "      <td>-0.162519</td>\n",
       "      <td>-1.203973</td>\n",
       "      <td>3.282789</td>\n",
       "      <td>58</td>\n",
       "      <td>-1.386294</td>\n",
       "      <td>0</td>\n",
       "      <td>-1.386294</td>\n",
       "      <td>6</td>\n",
       "      <td>0</td>\n",
       "    </tr>\n",
       "    <tr>\n",
       "      <th>4</th>\n",
       "      <td>0.371564</td>\n",
       "      <td>0.751416</td>\n",
       "      <td>3.432373</td>\n",
       "      <td>62</td>\n",
       "      <td>-1.386294</td>\n",
       "      <td>0</td>\n",
       "      <td>-1.386294</td>\n",
       "      <td>6</td>\n",
       "      <td>0</td>\n",
       "    </tr>\n",
       "  </tbody>\n",
       "</table>\n",
       "</div>"
      ],
      "text/plain": [
       "       lpsa    lcavol   lweight  age      lbph  svi       lcp  gleason  pgg45\n",
       "0 -0.430783 -0.579818  2.769459   50 -1.386294    0 -1.386294        6      0\n",
       "1 -0.162519 -0.994252  3.319626   58 -1.386294    0 -1.386294        6      0\n",
       "2 -0.162519 -0.510826  2.691243   74 -1.386294    0 -1.386294        7     20\n",
       "3 -0.162519 -1.203973  3.282789   58 -1.386294    0 -1.386294        6      0\n",
       "4  0.371564  0.751416  3.432373   62 -1.386294    0 -1.386294        6      0"
      ]
     },
     "execution_count": 6,
     "metadata": {},
     "output_type": "execute_result"
    }
   ],
   "source": [
    "# use ix to reorder\n",
    "c = c.loc[:, cols]\n",
    "\n",
    "# drop \n",
    "c=c.drop(['Obs'], axis=1)\n",
    "c.head()"
   ]
  },
  {
   "cell_type": "markdown",
   "metadata": {},
   "source": [
    "### Create Test/Train Split of data"
   ]
  },
  {
   "cell_type": "code",
   "execution_count": 7,
   "metadata": {},
   "outputs": [],
   "source": [
    "from sklearn.model_selection import train_test_split\n",
    "\n",
    "# split dataset into testing and training (70/30)\n",
    "features_train, features_test, target_train, target_test = train_test_split(\n",
    "    c.iloc[:,1:].values, c.iloc[:,0].values, test_size=0.30, random_state=0)"
   ]
  },
  {
   "cell_type": "code",
   "execution_count": 8,
   "metadata": {},
   "outputs": [
    {
     "name": "stdout",
     "output_type": "stream",
     "text": [
      "(30, 8)\n",
      "(67, 8)\n",
      "(30,)\n",
      "(67,)\n"
     ]
    }
   ],
   "source": [
    "print(features_test.shape)\n",
    "print(features_train.shape)\n",
    "print(target_test.shape)\n",
    "print(target_train.shape)"
   ]
  },
  {
   "cell_type": "markdown",
   "metadata": {},
   "source": [
    "### Model 1 - LASSO Regression"
   ]
  },
  {
   "cell_type": "code",
   "execution_count": 9,
   "metadata": {},
   "outputs": [
    {
     "name": "stdout",
     "output_type": "stream",
     "text": [
      "Lasso(alpha=0.1, copy_X=True, fit_intercept=True, max_iter=1000,\n",
      "   normalize=False, positive=False, precompute=False, random_state=33,\n",
      "   selection='cyclic', tol=0.0001, warm_start=False)\n",
      "AUC 0.6442585177886749\n",
      "R-squared 0.5746702269306728\n"
     ]
    }
   ],
   "source": [
    "# Lasso Regression\n",
    "# fit a LASSO model to the data\n",
    "from sklearn.linear_model import Lasso\n",
    "model = Lasso(alpha=0.1, random_state=33)\n",
    "model.fit(features_train, target_train)\n",
    "print(model)\n",
    "# make predictions\n",
    "expected = target_test\n",
    "predicted = model.predict(features_test)\n",
    "# summarize the fit of the model\n",
    "mse = np.mean((predicted-expected)**2)\n",
    "print(\"AUC\" ,mse)\n",
    "print(\"R-squared\" ,model.score(features_test, target_test))"
   ]
  },
  {
   "cell_type": "code",
   "execution_count": 10,
   "metadata": {
    "scrolled": true
   },
   "outputs": [
    {
     "name": "stdout",
     "output_type": "stream",
     "text": [
      "AUC: 0.9027149321266968\n",
      "             precision    recall  f1-score   support\n",
      "\n",
      "          0       0.86      0.92      0.89        13\n",
      "          1       0.94      0.88      0.91        17\n",
      "\n",
      "avg / total       0.90      0.90      0.90        30\n",
      "\n",
      "[[12  1]\n",
      " [ 2 15]]\n"
     ]
    }
   ],
   "source": [
    "from sklearn.metrics import accuracy_score, precision_score, recall_score, f1_score\n",
    "from sklearn.metrics import roc_curve, auc, confusion_matrix, classification_report, roc_auc_score\n",
    "\n",
    "expected = target_test\n",
    "predicted = model.predict(features_test)\n",
    "\n",
    "## create threshold (median) for testing accuracy of classification\n",
    "expected = np.where(expected > c.iloc[:,0].values.mean(), 1, 0)\n",
    "predicted = np.where(predicted > c.iloc[:,0].values.mean(), 1, 0)\n",
    "\n",
    "## output predictions\n",
    "false_positive_rate, true_positive_rate, thresholds = roc_curve(expected, predicted)\n",
    "print(\"AUC:\" ,auc(false_positive_rate, true_positive_rate))\n",
    "print(classification_report(expected, predicted))\n",
    "print(confusion_matrix(expected, predicted))"
   ]
  },
  {
   "cell_type": "code",
   "execution_count": 11,
   "metadata": {},
   "outputs": [
    {
     "name": "stdout",
     "output_type": "stream",
     "text": [
      "BEST SCORE 0.489288571398629\n",
      "BEST PARAM {'alpha': 0.001}\n",
      "Time to run 0.0730869999999999 seconds\n"
     ]
    }
   ],
   "source": [
    "## create Grid Search to optimize tuning parameters\n",
    "from sklearn.model_selection import train_test_split, cross_val_score, KFold, GridSearchCV\n",
    "import time\n",
    "\n",
    "# use a full grid over all parameters\n",
    "param_grid = {\"alpha\": [.001, .1, 1, 10, 100]}\n",
    "start_time = time.clock()\n",
    "\n",
    "# run grid search\n",
    "grid_search = GridSearchCV(model, param_grid=param_grid,n_jobs=-1)\n",
    "grid_search.fit(features_train, target_train)\n",
    "\n",
    "\n",
    "#print(grid_search.cv_results_)\n",
    "#print(\"SCORES\", grid_search.cv_results_)\n",
    "print(\"BEST SCORE\", grid_search.best_score_)\n",
    "print(\"BEST PARAM\", grid_search.best_params_)\n",
    "print(\"Time to run\", time.clock() - start_time, \"seconds\")"
   ]
  },
  {
   "cell_type": "markdown",
   "metadata": {},
   "source": [
    "### Model 2 - Ridge Regression"
   ]
  },
  {
   "cell_type": "code",
   "execution_count": 12,
   "metadata": {
    "scrolled": true
   },
   "outputs": [
    {
     "name": "stdout",
     "output_type": "stream",
     "text": [
      "Ridge(alpha=0.1, copy_X=True, fit_intercept=True, max_iter=None,\n",
      "   normalize=False, random_state=33, solver='auto', tol=0.001)\n",
      "MSE 0.6194699213834604\n",
      "R-squared 0.5910352850441853\n"
     ]
    }
   ],
   "source": [
    "# Ridge Regression\n",
    "import numpy as np\n",
    "from sklearn import datasets\n",
    "from sklearn.linear_model import Ridge\n",
    "\n",
    "# fit a ridge regression model to the data\n",
    "model = Ridge(alpha=0.1, random_state=33)\n",
    "model.fit(features_train, target_train)\n",
    "print(model)\n",
    "# make predictions\n",
    "expected = target_test\n",
    "predicted = model.predict(features_test)\n",
    "# summarize the fit of the model\n",
    "mse = np.mean((predicted-expected)**2)\n",
    "print(\"MSE\" ,mse)\n",
    "print(\"R-squared\" ,model.score(features_test, target_test))"
   ]
  },
  {
   "cell_type": "code",
   "execution_count": 13,
   "metadata": {},
   "outputs": [
    {
     "name": "stdout",
     "output_type": "stream",
     "text": [
      "Average Rate of Violent Crime: 2.4783868783505154\n",
      "AUC: 0.9117647058823529\n",
      "             precision    recall  f1-score   support\n",
      "\n",
      "          0       0.81      1.00      0.90        13\n",
      "          1       1.00      0.82      0.90        17\n",
      "\n",
      "avg / total       0.92      0.90      0.90        30\n",
      "\n",
      "[[13  0]\n",
      " [ 3 14]]\n"
     ]
    }
   ],
   "source": [
    "from sklearn.metrics import accuracy_score, precision_score, recall_score, f1_score\n",
    "from sklearn.metrics import roc_curve, auc, confusion_matrix, classification_report, roc_auc_score\n",
    "\n",
    "expected = target_test\n",
    "predicted = model.predict(features_test)\n",
    "\n",
    "## check mean rate of violent crime\n",
    "print(\"Average Rate of Violent Crime:\" ,c.iloc[:,0].values.mean())\n",
    "\n",
    "## create threshold (mean) for testing accuracy of classification\n",
    "expected = np.where(expected > c.iloc[:,0].values.mean(), 1, 0)\n",
    "predicted = np.where(predicted > c.iloc[:,0].values.mean(), 1, 0)\n",
    "\n",
    "## output predictions\n",
    "false_positive_rate, true_positive_rate, thresholds = roc_curve(expected, predicted)\n",
    "print(\"AUC:\" ,auc(false_positive_rate, true_positive_rate))\n",
    "print(classification_report(expected, predicted))\n",
    "print(confusion_matrix(expected, predicted))"
   ]
  },
  {
   "cell_type": "code",
   "execution_count": 14,
   "metadata": {},
   "outputs": [
    {
     "name": "stdout",
     "output_type": "stream",
     "text": [
      "BEST SCORE 0.5372136888096438\n",
      "BEST PARAM {'alpha': 1}\n",
      "Time to run 0.18629700000000016 seconds\n"
     ]
    }
   ],
   "source": [
    "## create Grid Search to optimize tuning parameters\n",
    "# use a full grid over all parameters\n",
    "param_grid = {\"alpha\": [.001, .1, 1, 10, 100]}\n",
    "start_time = time.clock()\n",
    "\n",
    "\n",
    "# run grid search\n",
    "grid_search = GridSearchCV(model, param_grid=param_grid,n_jobs=-1, cv=5)\n",
    "grid_search.fit(features_train, target_train)\n",
    "\n",
    "\n",
    "#print(grid_search.cv_results_)\n",
    "#print(\"SCORES\", grid_search.cv_results_)\n",
    "print(\"BEST SCORE\", grid_search.best_score_)\n",
    "print(\"BEST PARAM\", grid_search.best_params_)\n",
    "print(\"Time to run\", time.clock() - start_time, \"seconds\")"
   ]
  },
  {
   "cell_type": "markdown",
   "metadata": {},
   "source": [
    "### Model 3 - ElasticNet Regression"
   ]
  },
  {
   "cell_type": "code",
   "execution_count": 15,
   "metadata": {},
   "outputs": [
    {
     "name": "stdout",
     "output_type": "stream",
     "text": [
      "ElasticNet(alpha=0.1, copy_X=True, fit_intercept=True, l1_ratio=0.5,\n",
      "      max_iter=1000, normalize=False, positive=False, precompute=False,\n",
      "      random_state=33, selection='cyclic', tol=0.0001, warm_start=False)\n",
      "0.5774250485335829\n",
      "0.6187926770447563\n"
     ]
    }
   ],
   "source": [
    "# ElasticNet Regression\n",
    "# fit a model to the data\n",
    "from sklearn.linear_model import ElasticNet\n",
    "model = ElasticNet(alpha=0.1, random_state=33)\n",
    "model.fit(features_train, target_train)\n",
    "print(model)\n",
    "# make predictions\n",
    "expected = target_test\n",
    "predicted = model.predict(features_test)\n",
    "# summarize the fit of the model\n",
    "mse = np.mean((predicted-expected)**2)\n",
    "print(mse)\n",
    "print(model.score(features_test, target_test))"
   ]
  },
  {
   "cell_type": "code",
   "execution_count": 16,
   "metadata": {},
   "outputs": [
    {
     "name": "stdout",
     "output_type": "stream",
     "text": [
      "DT Accuracy Score 0.8666666666666667\n",
      "AUC: 0.8733031674208145\n",
      "             precision    recall  f1-score   support\n",
      "\n",
      "          0       0.80      0.92      0.86        13\n",
      "          1       0.93      0.82      0.87        17\n",
      "\n",
      "avg / total       0.88      0.87      0.87        30\n",
      "\n",
      "[[12  1]\n",
      " [ 3 14]]\n"
     ]
    }
   ],
   "source": [
    "from sklearn.metrics import accuracy_score, precision_score, recall_score, f1_score\n",
    "from sklearn.metrics import roc_curve, auc, confusion_matrix, classification_report, roc_auc_score\n",
    "#Notice I did not load my Datamining packages yet (ie decision tree). I will do that as I use them.\n",
    "\n",
    "expected = target_test\n",
    "predicted = model.predict(features_test)\n",
    "\n",
    "## create threshold (mean) for testing accuracy of classification\n",
    "expected = np.where(expected > c.iloc[:,0].values.mean(), 1, 0)\n",
    "predicted = np.where(predicted > c.iloc[:,0].values.mean(), 1, 0)\n",
    "\n",
    "## output predictions\n",
    "false_positive_rate, true_positive_rate, thresholds = roc_curve(expected, predicted)\n",
    "print(\"DT Accuracy Score\", accuracy_score(expected, predicted))\n",
    "print(\"AUC:\" ,auc(false_positive_rate, true_positive_rate))\n",
    "print(classification_report(expected, predicted))\n",
    "print(confusion_matrix(expected, predicted))"
   ]
  },
  {
   "cell_type": "code",
   "execution_count": 17,
   "metadata": {},
   "outputs": [
    {
     "name": "stdout",
     "output_type": "stream",
     "text": [
      "BEST SCORE 0.5297170951266009\n",
      "BEST PARAM {'alpha': 0.001}\n",
      "Time to run 0.21548999999999996 seconds\n"
     ]
    }
   ],
   "source": [
    "## create Grid Search to optimize tuning parameters\n",
    "# use a full grid over all parameters\n",
    "param_grid = {\"alpha\": [.001, .1, 1, 10, 100]}\n",
    "start_time = time.clock()\n",
    "\n",
    "\n",
    "# run grid search\n",
    "grid_search = GridSearchCV(model, param_grid=param_grid,n_jobs=-1, cv=5)\n",
    "grid_search.fit(features_train, target_train)\n",
    "\n",
    "\n",
    "#print(grid_search.cv_results_)\n",
    "#print(\"SCORES\", grid_search.cv_results_)\n",
    "print(\"BEST SCORE\", grid_search.best_score_)\n",
    "print(\"BEST PARAM\", grid_search.best_params_)\n",
    "print(\"Time to run\", time.clock() - start_time, \"seconds\")"
   ]
  },
  {
   "cell_type": "markdown",
   "metadata": {},
   "source": [
    "### Model 4 - OLS regression"
   ]
  },
  {
   "cell_type": "code",
   "execution_count": 18,
   "metadata": {},
   "outputs": [
    {
     "name": "stdout",
     "output_type": "stream",
     "text": [
      "LinearRegression(copy_X=True, fit_intercept=True, n_jobs=1, normalize=False)\n",
      "MSE 0.6211384548198878\n",
      "R-squared 0.5899337443919792\n"
     ]
    }
   ],
   "source": [
    "from sklearn import linear_model\n",
    "\n",
    "model = linear_model.LinearRegression()\n",
    "\n",
    "model.fit(features_train, target_train)\n",
    "print(model)\n",
    "# make predictions\n",
    "expected = target_test\n",
    "predicted = model.predict(features_test)\n",
    "# summarize the fit of the model\n",
    "mse = np.mean((predicted-expected)**2)\n",
    "print(\"MSE\" ,mse)\n",
    "print(\"R-squared\" ,model.score(features_test, target_test))"
   ]
  },
  {
   "cell_type": "code",
   "execution_count": 19,
   "metadata": {},
   "outputs": [
    {
     "name": "stdout",
     "output_type": "stream",
     "text": [
      "AUC: 0.9117647058823529\n",
      "             precision    recall  f1-score   support\n",
      "\n",
      "          0       0.81      1.00      0.90        13\n",
      "          1       1.00      0.82      0.90        17\n",
      "\n",
      "avg / total       0.92      0.90      0.90        30\n",
      "\n",
      "[[13  0]\n",
      " [ 3 14]]\n"
     ]
    }
   ],
   "source": [
    "from sklearn.metrics import accuracy_score, precision_score, recall_score, f1_score\n",
    "from sklearn.metrics import roc_curve, auc, confusion_matrix, classification_report, roc_auc_score\n",
    "#Notice I did not load my Datamining packages yet (ie decision tree). I will do that as I use them.\n",
    "\n",
    "expected = target_test\n",
    "predicted = model.predict(features_test)\n",
    "\n",
    "## create threshold (mean) for testing accuracy of classification\n",
    "expected = np.where(expected > c.iloc[:,0].values.mean(), 1, 0)\n",
    "predicted = np.where(predicted > c.iloc[:,0].values.mean(), 1, 0)\n",
    "\n",
    "## output predictions\n",
    "false_positive_rate, true_positive_rate, thresholds = roc_curve(expected, predicted)\n",
    "print(\"AUC:\" ,auc(false_positive_rate, true_positive_rate))\n",
    "print(classification_report(expected, predicted))\n",
    "print(confusion_matrix(expected, predicted))"
   ]
  },
  {
   "cell_type": "markdown",
   "metadata": {},
   "source": [
    "## END"
   ]
  }
 ],
 "metadata": {
  "kernelspec": {
   "display_name": "Python 3",
   "language": "python",
   "name": "python3"
  },
  "language_info": {
   "codemirror_mode": {
    "name": "ipython",
    "version": 3
   },
   "file_extension": ".py",
   "mimetype": "text/x-python",
   "name": "python",
   "nbconvert_exporter": "python",
   "pygments_lexer": "ipython3",
   "version": "3.6.5"
  }
 },
 "nbformat": 4,
 "nbformat_minor": 2
}
